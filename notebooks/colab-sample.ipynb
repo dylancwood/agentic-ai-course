{
 "cells": [
  {
   "cell_type": "code",
   "execution_count": 1,
   "id": "629ceda1",
   "metadata": {
    "vscode": {
     "languageId": "plaintext"
    }
   },
   "outputs": [
    {
     "data": {
      "text/plain": [
       "86400"
      ]
     },
     "execution_count": 1,
     "metadata": {},
     "output_type": "execute_result"
    }
   ],
   "source": [
    "seconds_in_day = 24 * 60 * 60\n",
    "seconds_in_day"
   ]
  },
  {
   "cell_type": "markdown",
   "id": "02210274",
   "metadata": {},
   "source": [
    "# This is the heading.\n",
    "I will push this file to the github remote, then open it in **colab**."
   ]
  }
 ],
 "metadata": {
  "kernelspec": {
   "display_name": "Python 3 (ipykernel)",
   "language": "python",
   "name": "python3"
  },
  "language_info": {
   "codemirror_mode": {
    "name": "ipython",
    "version": 3
   },
   "file_extension": ".py",
   "mimetype": "text/x-python",
   "name": "python",
   "nbconvert_exporter": "python",
   "pygments_lexer": "ipython3",
   "version": "3.9.6"
  }
 },
 "nbformat": 4,
 "nbformat_minor": 5
}
