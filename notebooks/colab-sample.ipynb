{
 "cells": [
  {
   "cell_type": "code",
   "execution_count": null,
   "id": "629ceda1",
   "metadata": {
    "vscode": {
     "languageId": "plaintext"
    }
   },
   "outputs": [],
   "source": [
    "seconds_in_day = 24 * 60 * 60\n",
    "seconds_in_day"
   ]
  },
  {
   "cell_type": "markdown",
   "id": "02210274",
   "metadata": {},
   "source": [
    "# This is the heading.\n",
    "I will push this file to the github remote, then open it in **colab**."
   ]
  }
 ],
 "metadata": {
  "language_info": {
   "name": "python"
  }
 },
 "nbformat": 4,
 "nbformat_minor": 5
}
