{
 "cells": [
  {
   "cell_type": "code",
   "execution_count": 4,
   "id": "6513f3e8",
   "metadata": {},
   "outputs": [],
   "source": [
    "import os\n",
    "\n",
    "api_key = os.getenv('OPENAPI_API_KEY')\n",
    "os.environ['OPENAI_API_KEY'] = api_key"
   ]
  },
  {
   "cell_type": "code",
   "execution_count": 6,
   "id": "57ced092-a46c-47af-abc5-64f9e70b6992",
   "metadata": {},
   "outputs": [
    {
     "name": "stdout",
     "output_type": "stream",
     "text": [
      "In functional programming, the transformation of data structures is often done in a clear and expressive manner. Let's write a function in Python that swaps the keys and values of a dictionary using a functional approach. We'll leverage comprehensions or higher-order functions like `map` for this task.\n",
      "\n",
      "Here's how you can do it using a dictionary comprehension:\n",
      "\n",
      "```python\n",
      "def swap_dict_keys_values(d):\n",
      "    # Creating a new dictionary by swapping keys and values\n",
      "    return {value: key for key, value in d.items()}\n",
      "\n",
      "# Example usage:\n",
      "original_dict = {'a': 1, 'b': 2, 'c': 3}\n",
      "swapped_dict = swap_dict_keys_values(original_dict)\n",
      "print(swapped_dict)  # Output: {1: 'a', 2: 'b', 3: 'c'}\n",
      "```\n",
      "\n",
      "Note: This approach assumes that the original dictionary's values are unique. If there are duplicate values, some keys will be overwritten in the swap process.\n",
      "\n",
      "If you want to account for non-unique values and store all keys that correspond to the same value, you could adapt the function as follows:\n",
      "\n",
      "```python\n",
      "def swap_dict_keys_values_allow_duplicates(d):\n",
      "    # Use a defaultdict to collect keys with the same value\n",
      "    from collections import defaultdict\n",
      "    swapped = defaultdict(list)\n",
      "    for key, value in d.items():\n",
      "        swapped[value].append(key)\n",
      "    return dict(swapped)\n",
      "\n",
      "# Example usage:\n",
      "original_dict = {'a': 1, 'b': 2, 'c': 1}\n",
      "swapped_dict = swap_dict_keys_values_allow_duplicates(original_dict)\n",
      "print(swapped_dict)  # Output: {1: ['a', 'c'], 2: ['b']}\n",
      "```\n",
      "\n",
      "This version handles duplicates by collecting all keys associated with the same value in a list.\n"
     ]
    }
   ],
   "source": [
    "from litellm import completion\n",
    "from typing import List, Dict\n",
    "\n",
    "\n",
    "def generate_response(messages: List[Dict]) -> str:\n",
    "    \"\"\"Call LLM to get response\"\"\"\n",
    "    response = completion(\n",
    "        model=\"openai/gpt-4o\",\n",
    "        messages=messages,\n",
    "        max_tokens=1024\n",
    "    )\n",
    "    return response.choices[0].message.content\n",
    "\n",
    "\n",
    "messages = [\n",
    "    {\"role\": \"system\", \"content\": \"You are an expert software engineer that prefers functional programming.\"},\n",
    "    {\"role\": \"user\", \"content\": \"Write a function to swap the keys and values in a dictionary.\"}\n",
    "]\n",
    "\n",
    "response = generate_response(messages)\n",
    "print(response)"
   ]
  }
 ],
 "metadata": {
  "kernelspec": {
   "display_name": "courseraenv (3.9.6)",
   "language": "python",
   "name": "python3"
  },
  "language_info": {
   "codemirror_mode": {
    "name": "ipython",
    "version": 3
   },
   "file_extension": ".py",
   "mimetype": "text/x-python",
   "name": "python",
   "nbconvert_exporter": "python",
   "pygments_lexer": "ipython3",
   "version": "3.9.6"
  }
 },
 "nbformat": 4,
 "nbformat_minor": 5
}
